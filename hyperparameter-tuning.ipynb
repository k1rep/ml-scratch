{
 "cells": [
  {
   "cell_type": "code",
   "execution_count": 36,
   "id": "initial_id",
   "metadata": {
    "collapsed": true,
    "ExecuteTime": {
     "end_time": "2024-02-14T08:44:53.678815Z",
     "start_time": "2024-02-14T08:44:53.671714Z"
    }
   },
   "outputs": [
    {
     "name": "stdout",
     "output_type": "stream",
     "text": [
      "[0.96666667 1.         0.96666667 0.96666667 1.        ]\n",
      "Accuracy: 0.98 (+/- 0.03)\n"
     ]
    }
   ],
   "source": [
    "from sklearn.datasets import load_iris\n",
    "iris = load_iris()\n",
    "x, y = iris.data, iris.target\n",
    "from sklearn.model_selection import cross_val_score\n",
    "from sklearn.svm import SVC\n",
    "svc = SVC(kernel='linear')\n",
    "scores = cross_val_score(svc, x, y, cv=5)\n",
    "print(scores)\n",
    "print(\"Accuracy: %0.2f (+/- %0.2f)\" % (scores.mean(), scores.std() * 2))"
   ]
  },
  {
   "cell_type": "code",
   "outputs": [
    {
     "name": "stdout",
     "output_type": "stream",
     "text": [
      "{'criterion': 'entropy', 'max_depth': 14, 'min_samples_split': 8}\n",
      "0.9455200501253131\n",
      "              precision    recall  f1-score   support\n",
      "\n",
      "           0       0.99      1.00      0.99       212\n",
      "           1       1.00      0.99      0.99       357\n",
      "\n",
      "    accuracy                           0.99       569\n",
      "   macro avg       0.99      0.99      0.99       569\n",
      "weighted avg       0.99      0.99      0.99       569\n"
     ]
    }
   ],
   "source": [
    "from sklearn.datasets import load_breast_cancer\n",
    "cancer = load_breast_cancer()\n",
    "x, y = cancer.data, cancer.target\n",
    "from sklearn.model_selection import GridSearchCV, KFold\n",
    "from sklearn.tree import DecisionTreeClassifier\n",
    "dt = DecisionTreeClassifier()\n",
    "params_tree = {'max_depth': range(5, 15), 'criterion': ['gini', 'entropy'], 'min_samples_split': range(2, 10)}\n",
    "kf = KFold(n_splits=10, shuffle=False)\n",
    "grid_tree = GridSearchCV(dt, params_tree, cv=kf)\n",
    "grid_tree.fit(x, y)\n",
    "print(grid_tree.best_params_)\n",
    "print(grid_tree.best_score_)\n",
    "from sklearn.metrics import classification_report\n",
    "print(classification_report(y, grid_tree.predict(x)))"
   ],
   "metadata": {
    "collapsed": false,
    "ExecuteTime": {
     "end_time": "2024-02-14T08:44:59.969372Z",
     "start_time": "2024-02-14T08:44:53.680956Z"
    }
   },
   "id": "fb6879d22e7f691d",
   "execution_count": 37
  },
  {
   "cell_type": "code",
   "outputs": [],
   "source": [
    "from sklearn.datasets import load_breast_cancer\n",
    "breast_cancer = load_breast_cancer()\n",
    "x, y = breast_cancer.data, breast_cancer.target\n",
    "from sklearn.model_selection import train_test_split\n",
    "x_train, x_test, y_train, y_test = train_test_split(x, y, test_size=0.3, random_state=42)\n",
    "from sklearn.preprocessing import StandardScaler\n",
    "scaler = StandardScaler()\n",
    "x_train = scaler.fit_transform(x_train)\n",
    "x_test = scaler.transform(x_test)"
   ],
   "metadata": {
    "collapsed": false,
    "ExecuteTime": {
     "end_time": "2024-02-14T08:44:59.982380Z",
     "start_time": "2024-02-14T08:44:59.967697Z"
    }
   },
   "id": "47d677a135d6b979",
   "execution_count": 38
  },
  {
   "cell_type": "code",
   "outputs": [
    {
     "name": "stdout",
     "output_type": "stream",
     "text": [
      "              precision    recall  f1-score   support\n",
      "\n",
      "           0       0.97      0.98      0.98        63\n",
      "           1       0.99      0.98      0.99       108\n",
      "\n",
      "    accuracy                           0.98       171\n",
      "   macro avg       0.98      0.98      0.98       171\n",
      "weighted avg       0.98      0.98      0.98       171\n"
     ]
    }
   ],
   "source": [
    "from sklearn.linear_model import LogisticRegression\n",
    "lr = LogisticRegression(max_iter=1000)\n",
    "lr.fit(x_train, y_train)\n",
    "lr_y_pred = lr.predict(x_test)\n",
    "from sklearn.metrics import classification_report\n",
    "print(classification_report(y_test, lr_y_pred))"
   ],
   "metadata": {
    "collapsed": false,
    "ExecuteTime": {
     "end_time": "2024-02-14T08:45:00.051204Z",
     "start_time": "2024-02-14T08:44:59.976757Z"
    }
   },
   "id": "f9cb2e486232c4bf",
   "execution_count": 39
  },
  {
   "cell_type": "code",
   "outputs": [
    {
     "name": "stdout",
     "output_type": "stream",
     "text": [
      "{'C': 0.1, 'penalty': 'l2', 'tol': 1e-06}\n",
      "0.9748717948717948\n",
      "              precision    recall  f1-score   support\n",
      "\n",
      "           0       1.00      0.97      0.98        63\n",
      "           1       0.98      1.00      0.99       108\n",
      "\n",
      "    accuracy                           0.99       171\n",
      "   macro avg       0.99      0.98      0.99       171\n",
      "weighted avg       0.99      0.99      0.99       171\n"
     ]
    }
   ],
   "source": [
    "from sklearn.model_selection import GridSearchCV\n",
    "params_lr = {'C': [0.001, 0.01, 0.1, 1, 10, 100, 1000], 'penalty': ['l2'], 'tol': [1e-6, 1e-5, 1e-4]}\n",
    "from sklearn.model_selection import KFold\n",
    "kf = KFold(n_splits=10, shuffle=False)\n",
    "grid_lr = GridSearchCV(lr, params_lr, cv=kf)\n",
    "grid_lr.fit(x_train, y_train)\n",
    "print(grid_lr.best_params_)\n",
    "print(grid_lr.best_score_)\n",
    "from sklearn.metrics import classification_report\n",
    "print(classification_report(y_test, grid_lr.predict(x_test)))"
   ],
   "metadata": {
    "collapsed": false,
    "ExecuteTime": {
     "end_time": "2024-02-14T08:45:03.193025Z",
     "start_time": "2024-02-14T08:45:00.068654Z"
    }
   },
   "id": "2190851057b8a62",
   "execution_count": 40
  },
  {
   "cell_type": "code",
   "outputs": [
    {
     "name": "stdout",
     "output_type": "stream",
     "text": [
      "              precision    recall  f1-score   support\n",
      "\n",
      "           0       0.97      0.97      0.97        63\n",
      "           1       0.98      0.98      0.98       108\n",
      "\n",
      "    accuracy                           0.98       171\n",
      "   macro avg       0.97      0.97      0.97       171\n",
      "weighted avg       0.98      0.98      0.98       171\n"
     ]
    }
   ],
   "source": [
    "from sklearn.svm import SVC\n",
    "svc = SVC()\n",
    "svc.fit(x_train, y_train)\n",
    "svc_y_pred = svc.predict(x_test)\n",
    "from sklearn.metrics import classification_report\n",
    "print(classification_report(y_test, svc_y_pred))"
   ],
   "metadata": {
    "collapsed": false,
    "ExecuteTime": {
     "end_time": "2024-02-14T08:45:03.214962Z",
     "start_time": "2024-02-14T08:45:03.198870Z"
    }
   },
   "id": "94d239e7f839ea08",
   "execution_count": 41
  },
  {
   "cell_type": "code",
   "outputs": [
    {
     "name": "stdout",
     "output_type": "stream",
     "text": [
      "{'C': 5.5, 'gamma': 0.002}\n",
      "0.9697435897435897\n",
      "              precision    recall  f1-score   support\n",
      "\n",
      "           0       1.00      0.97      0.98        63\n",
      "           1       0.98      1.00      0.99       108\n",
      "\n",
      "    accuracy                           0.99       171\n",
      "   macro avg       0.99      0.98      0.99       171\n",
      "weighted avg       0.99      0.99      0.99       171\n"
     ]
    }
   ],
   "source": [
    "from sklearn.model_selection import GridSearchCV\n",
    "params_lsvc = {'C': [4.5, 5, 5.5, 6], 'gamma': [0.0009, 0.001, 0.0011, 0.002]}\n",
    "from sklearn.model_selection import KFold\n",
    "kf = KFold(n_splits=10, shuffle=False)\n",
    "grid_svc = GridSearchCV(svc, params_lsvc, cv=kf)\n",
    "grid_svc.fit(x_train, y_train)\n",
    "print(grid_svc.best_params_)\n",
    "print(grid_svc.best_score_)\n",
    "from sklearn.metrics import classification_report\n",
    "print(classification_report(y_test, grid_svc.predict(x_test)))"
   ],
   "metadata": {
    "collapsed": false,
    "ExecuteTime": {
     "end_time": "2024-02-14T08:45:03.471887Z",
     "start_time": "2024-02-14T08:45:03.217127Z"
    }
   },
   "id": "23743412b76bb3d6",
   "execution_count": 42
  },
  {
   "cell_type": "code",
   "outputs": [
    {
     "name": "stdout",
     "output_type": "stream",
     "text": [
      "              precision    recall  f1-score   support\n",
      "\n",
      "           0       0.87      0.95      0.91        63\n",
      "           1       0.97      0.92      0.94       108\n",
      "\n",
      "    accuracy                           0.93       171\n",
      "   macro avg       0.92      0.93      0.93       171\n",
      "weighted avg       0.93      0.93      0.93       171\n"
     ]
    }
   ],
   "source": [
    "from sklearn.tree import DecisionTreeClassifier\n",
    "dt = DecisionTreeClassifier()\n",
    "dt.fit(x_train, y_train)\n",
    "dt_y_pred = dt.predict(x_test)\n",
    "from sklearn.metrics import classification_report\n",
    "print(classification_report(y_test, dt_y_pred))"
   ],
   "metadata": {
    "collapsed": false,
    "ExecuteTime": {
     "end_time": "2024-02-14T08:45:03.478381Z",
     "start_time": "2024-02-14T08:45:03.472379Z"
    }
   },
   "id": "5bbb4ae6b11bae23",
   "execution_count": 43
  },
  {
   "cell_type": "code",
   "outputs": [
    {
     "name": "stdout",
     "output_type": "stream",
     "text": [
      "{'criterion': 'entropy', 'max_depth': 11, 'min_samples_split': 9}\n",
      "0.9422435897435898\n",
      "              precision    recall  f1-score   support\n",
      "\n",
      "           0       0.95      0.90      0.93        63\n",
      "           1       0.95      0.97      0.96       108\n",
      "\n",
      "    accuracy                           0.95       171\n",
      "   macro avg       0.95      0.94      0.94       171\n",
      "weighted avg       0.95      0.95      0.95       171\n"
     ]
    }
   ],
   "source": [
    "from sklearn.model_selection import GridSearchCV\n",
    "params_dt = {'max_depth': range(5, 15), 'criterion': ['gini', 'entropy'], 'min_samples_split': range(2, 10)}\n",
    "from sklearn.model_selection import KFold\n",
    "kf = KFold(n_splits=10, shuffle=False)\n",
    "grid_dt = GridSearchCV(dt, params_dt, cv=kf)\n",
    "grid_dt.fit(x_train, y_train)\n",
    "print(grid_dt.best_params_)\n",
    "print(grid_dt.best_score_)\n",
    "from sklearn.metrics import classification_report\n",
    "print(classification_report(y_test, grid_dt.predict(x_test)))"
   ],
   "metadata": {
    "collapsed": false,
    "ExecuteTime": {
     "end_time": "2024-02-14T08:45:26.500122Z",
     "start_time": "2024-02-14T08:45:22.410820Z"
    }
   },
   "id": "7032a6111749e603",
   "execution_count": 45
  },
  {
   "cell_type": "code",
   "outputs": [
    {
     "name": "stdout",
     "output_type": "stream",
     "text": [
      "0 [0]\n"
     ]
    }
   ],
   "source": [
    "x_try = x[30].reshape(1, -1)\n",
    "grid_search_y_lr_pred = grid_lr.predict(x_try)\n",
    "print(y[30], grid_search_y_lr_pred)"
   ],
   "metadata": {
    "collapsed": false,
    "ExecuteTime": {
     "end_time": "2024-02-14T08:47:02.295786Z",
     "start_time": "2024-02-14T08:47:02.291902Z"
    }
   },
   "id": "c1d2a9ce150c772b",
   "execution_count": 46
  }
 ],
 "metadata": {
  "kernelspec": {
   "display_name": "Python 3",
   "language": "python",
   "name": "python3"
  },
  "language_info": {
   "codemirror_mode": {
    "name": "ipython",
    "version": 2
   },
   "file_extension": ".py",
   "mimetype": "text/x-python",
   "name": "python",
   "nbconvert_exporter": "python",
   "pygments_lexer": "ipython2",
   "version": "2.7.6"
  }
 },
 "nbformat": 4,
 "nbformat_minor": 5
}
